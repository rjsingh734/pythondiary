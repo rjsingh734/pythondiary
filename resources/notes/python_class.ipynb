{
 "cells": [
  {
   "cell_type": "code",
   "execution_count": null,
   "id": "059cd019-792b-4bdd-a807-d824f9d0246e",
   "metadata": {},
   "outputs": [],
   "source": [
    "print('hello world!')\n",
    "print(1)\n",
    "print(1.1)\n",
    "x=2\n",
    "print(x)"
   ]
  },
  {
   "cell_type": "code",
   "execution_count": null,
   "id": "77facb74-3537-4e2d-93cf-747c08d2a7a2",
   "metadata": {},
   "outputs": [],
   "source": [
    "hours=30\n",
    "rate=12\n",
    "pay=hours*rate\n",
    "print(pay)"
   ]
  },
  {
   "cell_type": "markdown",
   "id": "2befdac7-8da1-42f9-be4e-a0bca4977963",
   "metadata": {},
   "source": [
    "Python Variable rules\n",
    "\n",
    "1.we can use alphabets,underscore and number  \n",
    "2.we can only start the variable name with alphabet or underscore  \n",
    "3.python is case sensitive"
   ]
  },
  {
   "cell_type": "code",
   "execution_count": null,
   "id": "ce15e5a0-5979-427c-afe9-7edca7fbce60",
   "metadata": {},
   "outputs": [],
   "source": [
    "x=.6\n",
    "x=3.9*x*(1-x)\n",
    "print(x)"
   ]
  },
  {
   "cell_type": "markdown",
   "id": "ebfa5682-03b2-499a-a767-283276deba76",
   "metadata": {},
   "source": [
    "operator operation  \n",
    ".+&nbsp;&nbsp;&nbsp;&nbsp;Addition  \n",
    ".-&nbsp;&nbsp;&nbsp;&nbsp;Subtraction  \n",
    ".*&nbsp;&nbsp;&nbsp;&nbsp;Multioplication  \n",
    "./&nbsp;&nbsp;&nbsp;&nbsp;Division  \n",
    ".%&nbsp;&nbsp;&nbsp;&nbsp;Modulo  "
   ]
  },
  {
   "cell_type": "code",
   "execution_count": null,
   "id": "a89b3ee7-ebfb-4539-9c16-09b747b1ab89",
   "metadata": {},
   "outputs": [],
   "source": [
    "x=2\n",
    "print(x)\n",
    "y=2.0\n",
    "print(y)"
   ]
  },
  {
   "cell_type": "markdown",
   "id": "b68c10fb-b2e0-4042-819b-d13870818b38",
   "metadata": {},
   "source": [
    "Precedence rules  \n",
    "1.Paranthsis  \n",
    "2.Exponentiation  \n",
    "3.Multiplication, division, remainder  \n",
    "4.Addition  \n",
    "5.Subtraction  \n",
    "<br>\n",
    "(if there are expressions of same precedence)expresoins are eveauated left to right"
   ]
  },
  {
   "cell_type": "code",
   "execution_count": null,
   "id": "03541d60-d587-443c-9b5e-3491d4472144",
   "metadata": {},
   "outputs": [],
   "source": [
    "#concatination(str+str returns a str with the concatinated string)\n",
    "name='vineeth'+' Rai' \n",
    "print(name)"
   ]
  },
  {
   "cell_type": "code",
   "execution_count": null,
   "id": "aee65736-bef1-49bd-9032-a41e42452058",
   "metadata": {},
   "outputs": [],
   "source": [
    "#input section"
   ]
  },
  {
   "cell_type": "code",
   "execution_count": null,
   "id": "6e4920a0",
   "metadata": {},
   "outputs": [],
   "source": [
    "#input always returns a str value\n",
    "temp=input(\"enter a value: \")\n",
    "type(temp)"
   ]
  },
  {
   "cell_type": "code",
   "execution_count": null,
   "id": "1ef03524",
   "metadata": {},
   "outputs": [],
   "source": [
    "i=int(input(\"enter a number\"))\n",
    "type(i)"
   ]
  },
  {
   "cell_type": "code",
   "execution_count": null,
   "id": "0e8f1375",
   "metadata": {},
   "outputs": [],
   "source": [
    "print(\"asd{1} dfsf{0}\".format(1,2))"
   ]
  },
  {
   "cell_type": "code",
   "execution_count": null,
   "id": "0cb4bc33",
   "metadata": {},
   "outputs": [],
   "source": [
    "#comments \n",
    "'''\n",
    "this \n",
    "is \n",
    "a \n",
    "multi \n",
    "line \n",
    "comment\n",
    "'''\n"
   ]
  },
  {
   "cell_type": "code",
   "execution_count": null,
   "id": "ea69defb",
   "metadata": {},
   "outputs": [],
   "source": [
    "# different types of divisions\n",
    "print(6/4)\n",
    "print(6//4)"
   ]
  },
  {
   "cell_type": "code",
   "execution_count": null,
   "id": "c5edbc1b",
   "metadata": {},
   "outputs": [],
   "source": [
    "#keywords\n",
    "import keyword as k;\n",
    "print(k.kwlist)\n",
    "print(len(k.kwlist))"
   ]
  },
  {
   "cell_type": "markdown",
   "id": "ee3b114f",
   "metadata": {},
   "source": [
    "### Logical expressions\n"
   ]
  },
  {
   "cell_type": "markdown",
   "id": "f08469f7",
   "metadata": {},
   "source": [
    "### Boolean Expressions\n",
    "\n",
    "* x==y `>`true if x is equal to y\n",
    "* x!=y `>`true if x is not equal to y\n",
    "* x>y  `>`\n",
    "* x<y  `>`\n",
    "* x>=y `>`\n",
    "* x<=y `>`"
   ]
  },
  {
   "cell_type": "markdown",
   "id": "cf0ba86d",
   "metadata": {},
   "source": [
    "### Conditional Execution  \n",
    "\n",
    "Simple if  \n",
    "```python\n",
    "if(true):\n",
    "    print(\"hi\")\n",
    "```\n",
    "if elif else\n",
    "```python\n",
    "if(false):\n",
    "    print('high')\n",
    "elif(true):\n",
    "    print('low')\n",
    "else:\n",
    "    print('invalid')\n",
    "```"
   ]
  },
  {
   "cell_type": "code",
   "execution_count": null,
   "id": "fdc07b72",
   "metadata": {},
   "outputs": [],
   "source": [
    "rate = int(input(\"enter hourly rate: \"))\n",
    "hour =  int(input(\"enter no of hours: \"))\n",
    "pay = hour*rate\n",
    "print(pay)"
   ]
  },
  {
   "cell_type": "markdown",
   "id": "fd1c9139",
   "metadata": {},
   "source": [
    "## Try and except  \n",
    "It is used to detect runtime faults in the code  \n",
    "```python\n",
    "try:\n",
    "    #faulty code\n",
    "except:\n",
    "    #error message\n",
    "    #error correction\n",
    "```\n"
   ]
  },
  {
   "cell_type": "code",
   "execution_count": null,
   "id": "2467d957",
   "metadata": {},
   "outputs": [],
   "source": [
    "try:\n",
    "    rate = int(input(\"enter hourly rate: \"))\n",
    "    hour =  int(input(\"enter no of hours: \"))\n",
    "    pay = hour*rate\n",
    "    print(pay)\n",
    "except:\n",
    "    print('please enter integer values only')"
   ]
  },
  {
   "cell_type": "code",
   "execution_count": null,
   "id": "7b11b605",
   "metadata": {},
   "outputs": [],
   "source": [
    "#Off topic\n",
    "import sys\n",
    "lst = ['b',0,2,3,5,5.2]\n",
    "for entry in lst:\n",
    "    try:\n",
    "        print(\"The entry is:\", entry)\n",
    "        r=1/int(entry)\n",
    "        print(\"the reciprocal of\", entry, \"is\", r)\n",
    "        print(\"&&&****************&&&\")\n",
    "    except:\n",
    "        print(\"oops\", sys.exc_info()[0],\"occured.\")\n",
    "        print(\"&&&****************&&&\")\n",
    "\n",
    "            "
   ]
  },
  {
   "cell_type": "code",
   "execution_count": null,
   "id": "366bdf38",
   "metadata": {},
   "outputs": [],
   "source": [
    "import sys\n",
    "lst=['b',0,2]\n",
    "for entry in lst:\n",
    "    try:\n",
    "        print(\"The entry is:\", entry)\n",
    "        r=1/int(entry)\n",
    "    except:\n",
    "        print('Entry is not a number')\n",
    "    except:\n",
    "        print('Zero Division error')\n"
   ]
  },
  {
   "cell_type": "markdown",
   "id": "4ee6d2d5",
   "metadata": {},
   "source": [
    "### Homework\n",
    "#### 1. Rewrite pay computation program to give the employee 2 times the hourly rate for hours worked above 40 hrs  \n",
    "#### 2. Rewrite the program using try and accept so that the program can handle the non numeric inputs gracefully "
   ]
  },
  {
   "cell_type": "code",
   "execution_count": null,
   "id": "d3e2eb65",
   "metadata": {},
   "outputs": [],
   "source": [
    "#Homework 1\n",
    "\n",
    "hour =  int(input(\"enter no of hours: \"))\n",
    "rate = int(input(\"enter hourly rate: \"))\n",
    "\n",
    "if(hour>40):\n",
    "    pay=2*rate*hour\n",
    "else:\n",
    "    pay=rate*hour\n",
    "    \n",
    "print(pay)"
   ]
  },
  {
   "cell_type": "code",
   "execution_count": null,
   "id": "4863dfdc",
   "metadata": {},
   "outputs": [],
   "source": [
    "#Homework 2\n",
    "\n",
    "while True:\n",
    "    try:\n",
    "        value =  int(input(\"enter a integer you want take square of: \"))\n",
    "        break\n",
    "    except:\n",
    "        print(\"Please enter integer value only\")\n",
    "\n",
    "square=value*value\n",
    "print(\"The qube of {} is {}\".format(value,square))"
   ]
  },
  {
   "cell_type": "code",
   "execution_count": null,
   "id": "bdbb5950",
   "metadata": {},
   "outputs": [],
   "source": [
    "x=6\n",
    "y=2\n",
    "x>=2 and (x/y)>2\n"
   ]
  },
  {
   "cell_type": "code",
   "execution_count": null,
   "id": "c63deeb5",
   "metadata": {},
   "outputs": [],
   "source": [
    "x=1\n",
    "y=0\n",
    "x>=2 and (x/y)>2\n"
   ]
  },
  {
   "cell_type": "code",
   "execution_count": null,
   "id": "8e8d9ce8",
   "metadata": {},
   "outputs": [],
   "source": [
    "x=6\n",
    "y=0\n",
    "x>=2 and (x/y)>2\n"
   ]
  },
  {
   "cell_type": "markdown",
   "id": "5b2e55a0",
   "metadata": {},
   "source": [
    "> ** Note: ** In 'and' opperation if first condition is false then compailer wont check for second condition oer any preseding condition  \n",
    ">same with 'or' if first value is true then second statement wont be exicuted"
   ]
  },
  {
   "cell_type": "code",
   "execution_count": null,
   "id": "3df87421",
   "metadata": {},
   "outputs": [],
   "source": [
    "#solution\n",
    "\n",
    "x=6\n",
    "y=0\n",
    "x>=2 and (y!=0) and (x/y)>2"
   ]
  },
  {
   "cell_type": "markdown",
   "id": "a0d2210f",
   "metadata": {},
   "source": [
    "## User defined functions\n",
    "\n",
    "syntax:  \n",
    "  \n",
    "  > def function_name(parameters):\n",
    "  > \n",
    "  > '''  \n",
    "  > Doc string  \n",
    "  > '''  \n",
    "  >   Statements\n",
    "  "
   ]
  },
  {
   "cell_type": "code",
   "execution_count": null,
   "id": "512af456",
   "metadata": {},
   "outputs": [],
   "source": [
    "#example1\n",
    "\n",
    "def add(a,b):\n",
    "    '''\n",
    "    just adds 2 numbers\n",
    "    '''\n",
    "    return a+b\n",
    "\n",
    "print(add(10,11))"
   ]
  },
  {
   "cell_type": "code",
   "execution_count": null,
   "id": "65eee2c0",
   "metadata": {},
   "outputs": [],
   "source": [
    "#example2\n",
    "\n",
    "def greet(name):                #function defination\n",
    "    '''\n",
    "    just prints input with greetings\n",
    "    '''\n",
    "    print(\"Hello {} !how are you\".format(name))\n",
    "    \n",
    "    \n",
    "string=\"vrk\"\n",
    "greet(string)                  #function call\n",
    "\n",
    "greet(\"Vineeth\")               #function call\n",
    "\n",
    "print(greet.__doc__) "
   ]
  },
  {
   "cell_type": "markdown",
   "id": "46af7942",
   "metadata": {},
   "source": []
  },
  {
   "cell_type": "code",
   "execution_count": null,
   "id": "f6ec2f61",
   "metadata": {},
   "outputs": [],
   "source": [
    "#example with bacword compatiblity\n",
    "#non-default argument should not follows default argument\n",
    "\n",
    "def greet(name, msg=\"how do you do?\"):                #function defination\n",
    "    '''\n",
    "    just prints input with greetings\n",
    "    '''\n",
    "    print(\"Hello {0} !{1}\".format(name,msg))\n",
    "    \n",
    "    \n",
    "string=\"vrk\"\n",
    "greet(string)                  #function call\n",
    "\n",
    "greet(\"Vineeth\")               #function call\n",
    "\n",
    "#print(greet.__doc__) \n",
    "\n",
    "greet(\"vrk\",\"why dont you die\")"
   ]
  },
  {
   "cell_type": "markdown",
   "id": "d2e20388",
   "metadata": {},
   "source": [
    "## While Loop in Python\n",
    "\n",
    "Syntax:  \n",
    "> While expression:  \n",
    "> &emsp;body of while\n"
   ]
  },
  {
   "cell_type": "code",
   "execution_count": null,
   "id": "46a407c6",
   "metadata": {},
   "outputs": [],
   "source": [
    "#example of while loop\n",
    "n=5\n",
    "while n>0:\n",
    "    print(n)\n",
    "    n=n-1\n",
    "print('tata bye bye')"
   ]
  },
  {
   "cell_type": "code",
   "execution_count": null,
   "id": "09008430",
   "metadata": {},
   "outputs": [],
   "source": [
    "#example of infinite loop\n",
    "n=0\n",
    "while False:\n",
    "    print(n,end=' ')\n",
    "    n=n+1\n"
   ]
  },
  {
   "cell_type": "code",
   "execution_count": null,
   "id": "a2c79268",
   "metadata": {},
   "outputs": [],
   "source": [
    "# example of infinite loop but with a otion to break the loop\n",
    "while True:\n",
    "    line=input('> ')\n",
    "    if(line=='done'):\n",
    "        break\n",
    "    print(line)\n",
    "print('Done!')"
   ]
  },
  {
   "cell_type": "code",
   "execution_count": null,
   "id": "71cc381b",
   "metadata": {},
   "outputs": [],
   "source": [
    "while True:\n",
    "    line=input('cmd> ')\n",
    "    if(line=='done'):\n",
    "        break\n",
    "    elif(line=='name'):\n",
    "        line=input('enter your name> ')\n",
    "        print('{}, thank you for opting my software')\n",
    "    print(line)\n",
    "print('Done!')"
   ]
  },
  {
   "cell_type": "code",
   "execution_count": null,
   "id": "6b50e29f",
   "metadata": {},
   "outputs": [],
   "source": [
    "#usage of Continue inside loop\n",
    "while True:\n",
    "    line=input('cmd> ')\n",
    "    if(line[0]=='#'):\n",
    "        continue\n",
    "    elif(line=='done'):\n",
    "        line='#'\n",
    "        break\n",
    "    elif(line=='name'):\n",
    "        line=input('enter your name> ')\n",
    "        print(\"{} , thank you for opting my software\".format(line))\n",
    "    else:\n",
    "        print(line)\n",
    "print('Done!')"
   ]
  },
  {
   "cell_type": "code",
   "execution_count": null,
   "id": "5dc7101d",
   "metadata": {},
   "outputs": [],
   "source": [
    "#using while to add number in side a list\n",
    "\n",
    "list1=[10,78,32,45]\n",
    "sum=0\n",
    "index=0\n",
    "while index<len(list1):\n",
    "    print(index,\"->\",list1[index])\n",
    "    sum+=list1[index]\n",
    "    index+=1\n",
    "print(\"sum =\",sum)"
   ]
  },
  {
   "cell_type": "markdown",
   "id": "71bdb7cf",
   "metadata": {},
   "source": [
    "## For Loop in Python\n",
    "\n",
    "Syntax:  \n",
    "> for element in elements:  \n",
    "> &emsp;operation on element\n"
   ]
  },
  {
   "cell_type": "code",
   "execution_count": null,
   "id": "82f2dcf7",
   "metadata": {},
   "outputs": [],
   "source": [
    "#far loop to find product \n",
    "lst=[1,2,1,3,1]\n",
    "product=1\n",
    "for item in lst:\n",
    "    product*=item\n",
    "print(\"product of numbers in the list containing {} elements is {}\".format(len(lst),product))"
   ]
  },
  {
   "cell_type": "code",
   "execution_count": null,
   "id": "141988e1",
   "metadata": {},
   "outputs": [],
   "source": [
    "#to find the no of elements in a list using for\n",
    "lst=[5,8,6,9,7,1,3,4,8]\n",
    "count=0\n",
    "for i in lst:\n",
    "    count+=1\n",
    "print(\"no of elements\",count)"
   ]
  },
  {
   "cell_type": "code",
   "execution_count": null,
   "id": "068c9082",
   "metadata": {},
   "outputs": [],
   "source": [
    "#find the largest no in a list\n",
    "lst=[1,7,4,2,8,6,90,7,21,5,6,8,78,1,48,75,84]\n",
    "largest=lst[0]\n",
    "for ele in lst:\n",
    "    if(largest<ele):\n",
    "        largest=ele\n",
    "print(\"largest in the list is\",largest)"
   ]
  },
  {
   "cell_type": "code",
   "execution_count": null,
   "id": "d2461b9d",
   "metadata": {},
   "outputs": [],
   "source": [
    "#counting occarence of given element\n",
    "l=list(map(int,input().split(\" \")))\n",
    "a=int(input())\n",
    "count=0\n",
    "for i in l:\n",
    "    if i==a:\n",
    "        count+=1\n",
    "print(count)"
   ]
  },
  {
   "cell_type": "code",
   "execution_count": null,
   "id": "ebae42bd",
   "metadata": {},
   "outputs": [],
   "source": [
    "#function \"range\" which can be used to get a sequence of numbers \n",
    "for i in range(10):\n",
    "    print(i, end=\" \")"
   ]
  },
  {
   "cell_type": "code",
   "execution_count": null,
   "id": "dc0e888c",
   "metadata": {},
   "outputs": [],
   "source": [
    "for i in range(1,10):\n",
    "    print(i,end=\" \")"
   ]
  },
  {
   "cell_type": "code",
   "execution_count": null,
   "id": "e4379097",
   "metadata": {},
   "outputs": [],
   "source": [
    "for i in range(0,10,2):\n",
    "    print(i,end=\" \")"
   ]
  },
  {
   "cell_type": "code",
   "execution_count": null,
   "id": "dc3d651a",
   "metadata": {},
   "outputs": [],
   "source": [
    "for i in range(10,0,-1):\n",
    "    print(i,end=\" \")"
   ]
  },
  {
   "cell_type": "code",
   "execution_count": null,
   "id": "6f11b0b7",
   "metadata": {},
   "outputs": [],
   "source": [
    "friends=[\"elspo\",\"baro\",\"nestiyan\",\"lepros\"]\n",
    "for index in range(len(friends)):\n",
    "    print(index,friends[index])"
   ]
  },
  {
   "cell_type": "code",
   "execution_count": null,
   "id": "40eb4185",
   "metadata": {},
   "outputs": [],
   "source": [
    "friends=[\"elspo\",\"baro\",\"nestiyan\",\"lepros\"]\n",
    "for index in range(len(friends)):\n",
    "    print(\" {}->{} \".format(index,friends[index]),end=\"|*|\")"
   ]
  },
  {
   "cell_type": "code",
   "execution_count": null,
   "id": "f618567a",
   "metadata": {},
   "outputs": [],
   "source": [
    "#for else example\n",
    "friends=[\"elspo\",\"baro\",\"nestiyan\",\"lepros\"]\n",
    "\n",
    "for index in range(len(friends)):\n",
    "    print(index,friends[index])\n",
    "else: \n",
    "    print('done!')"
   ]
  },
  {
   "cell_type": "code",
   "execution_count": null,
   "id": "308d4425",
   "metadata": {},
   "outputs": [],
   "source": [
    "for i in range(10):\n",
    "    if(i>5):\n",
    "        break\n",
    "    print(i)\n",
    "else:\n",
    "    print(\"Done!\")"
   ]
  },
  {
   "cell_type": "code",
   "execution_count": null,
   "id": "265865e4",
   "metadata": {},
   "outputs": [],
   "source": [
    "    num=1\n",
    "    for i in range(2,(num//2)+1):\n",
    "        if(num<3):\n",
    "            print(\"cant determine prime\");\n",
    "            break\n",
    "        if((num%i)==0):\n",
    "            print(\"the number is not prime\")\n",
    "            break\n",
    "    else:\n",
    "        print(\"given number is prime\")"
   ]
  },
  {
   "cell_type": "code",
   "execution_count": null,
   "id": "703326eb",
   "metadata": {},
   "outputs": [],
   "source": [
    "#code for fun\n",
    "from IPython.display import clear_output\n",
    "\n",
    "while True:\n",
    "    clear_output(wait=True)\n",
    "    num=int(input(\"enter a int:\"))\n",
    "    for i in range(2,(num//2)+1):\n",
    "        if((num%i)==0):\n",
    "            print(num,\"%\",i,\"== 0\\n\")\n",
    "            print(\"the number is not prime\")\n",
    "            break\n",
    "        else:\n",
    "            print(num,\"%\",i,\"!= 0\")\n",
    "    else:\n",
    "        print(\"given number is prime\")"
   ]
  },
  {
   "cell_type": "code",
   "execution_count": null,
   "id": "c4c6117e",
   "metadata": {},
   "outputs": [],
   "source": [
    "#prime function for ranged input\n",
    "l=[20,3,7,68,45,9]\n",
    "for num in l:\n",
    "    for i in range(2,(num//2)+1):\n",
    "        if(num<3):\n",
    "            print(num,\"\\t->\\tUnknown\")\n",
    "            break\n",
    "        if((num%i)==0):\n",
    "            print(num,\"\\t->\\tnot prime\")\n",
    "            break\n",
    "    else:\n",
    "        print(num,\"\\t->\\tprime\")\n"
   ]
  },
  {
   "cell_type": "code",
   "execution_count": null,
   "id": "715dbdcb",
   "metadata": {
    "scrolled": true
   },
   "outputs": [],
   "source": [
    "#for a range() of values\n",
    "\n",
    "for num in range(-20,31):\n",
    "    for i in range(2,(num//2)+1):\n",
    "        if(num<=3):\n",
    "            print(num,\"\\t->\\tUnknown\")\n",
    "            break\n",
    "        if((num%i)==0):\n",
    "            print(num,\"\\t->\\tnot prime\")\n",
    "            break\n",
    "    else:\n",
    "        if(num<3):\n",
    "            print(num,\"\\t->\\tunknown\")\n",
    "        else:\n",
    "            print(num,\"\\t->\\tprime\")\n"
   ]
  },
  {
   "cell_type": "code",
   "execution_count": null,
   "id": "873bc264",
   "metadata": {},
   "outputs": [],
   "source": [
    "#homework python for everyone \n",
    "#chapter 5 excericice\n",
    "sum=0\n",
    "count=0\n",
    "temp=0\n",
    "while True:\n",
    "    ip=input(\"Enter a number:\")\n",
    "    if(ip=='Done' or ip == 'done'):\n",
    "        if(count==0):\n",
    "            print(sum,count,'0')\n",
    "        else:\n",
    "            print(int(sum),count,sum/count)\n",
    "        break\n",
    "    try:\n",
    "        temp=float(ip)\n",
    "    except:\n",
    "        print(\"Invalid input\")\n",
    "        continue\n",
    "    sum+=temp\n",
    "    count+=1\n",
    "        "
   ]
  },
  {
   "cell_type": "markdown",
   "id": "317cdde7",
   "metadata": {},
   "source": [
    "## Strings \n",
    "\n",
    "example:  \n",
    "```python\n",
    "fruit=\"banana\"\n",
    "```\n"
   ]
  },
  {
   "cell_type": "code",
   "execution_count": null,
   "id": "9c98d5b1",
   "metadata": {},
   "outputs": [],
   "source": [
    "fruit='banana'\n",
    "print(len(fruit))\n",
    "print(fruit[1])\n"
   ]
  },
  {
   "cell_type": "code",
   "execution_count": null,
   "id": "62d0138f",
   "metadata": {},
   "outputs": [],
   "source": [
    "#few tests on string\n",
    "\n",
    "fruit='banana'\n",
    "l=len(fruit)\n",
    "#print(fruit[l])\n",
    "\n",
    "\"\"\"\n",
    "for ch in fruit:\n",
    "    print(ch)\n",
    "\"\"\"\n",
    "index=0;\n",
    "while index<len(fruit):\n",
    "    print(fruit[index])\n",
    "    index+=1\n",
    "    \n"
   ]
  },
  {
   "cell_type": "code",
   "execution_count": 18,
   "id": "025ef16d",
   "metadata": {
    "scrolled": true
   },
   "outputs": [
    {
     "name": "stdout",
     "output_type": "stream",
     "text": [
      "4\n"
     ]
    }
   ],
   "source": [
    "#write a python program that loops through each letter of string and counts the number of time loop encounters 'a' charector\n",
    "var='xdktgzjijsdfgzahdahiufjadfshaaiaidajoidhao'\n",
    "count=0\n",
    "for ch in var:\n",
    "    if(ch==\"j\"):\n",
    "        count+=1\n",
    "print(count)"
   ]
  },
  {
   "cell_type": "code",
   "execution_count": 35,
   "id": "7ce51f63",
   "metadata": {},
   "outputs": [
    {
     "name": "stdout",
     "output_type": "stream",
     "text": [
      "nave\n",
      " s\n",
      "naveen\n",
      "n shenoy\n"
     ]
    }
   ],
   "source": [
    "# slicing strings\n",
    "\n",
    "var =  \"naveen shenoy\"\n",
    "print(var[0:4])\n",
    "print(var[6:8])\n",
    "print(var[:6])\n",
    "print(var[5:])"
   ]
  },
  {
   "cell_type": "code",
   "execution_count": 37,
   "id": "a37ed062",
   "metadata": {},
   "outputs": [
    {
     "name": "stdout",
     "output_type": "stream",
     "text": [
      "eat banana\n"
     ]
    }
   ],
   "source": [
    "# concatination\n",
    "\n",
    "fruit=\"banana\"\n",
    "act=\"eat\"\n",
    "print(act+\" \"+fruit)"
   ]
  },
  {
   "cell_type": "code",
   "execution_count": 41,
   "id": "e24acd13",
   "metadata": {
    "scrolled": true
   },
   "outputs": [
    {
     "name": "stdout",
     "output_type": "stream",
     "text": [
      "True\n",
      "False\n",
      "True\n"
     ]
    }
   ],
   "source": [
    "# \"in \"\n",
    "fruit = \"banana\"\n",
    "print(\"n\" in fruit)\n",
    "print(\"m\" in fruit)\n",
    "print(\"nan\" in fruit)"
   ]
  },
  {
   "cell_type": "code",
   "execution_count": 52,
   "id": "a4e13883",
   "metadata": {},
   "outputs": [
    {
     "name": "stdout",
     "output_type": "stream",
     "text": [
      "a comes before ab\n"
     ]
    }
   ],
   "source": [
    "fruit=\"a\"\n",
    "test='ab'\n",
    "if fruit>test:\n",
    "    print(fruit+\" comes after \"+test)\n",
    "elif fruit<test:\n",
    "    print(fruit+\" comes before \"+test)\n",
    "else:\n",
    "    print(fruit+\" is \"+test)"
   ]
  },
  {
   "cell_type": "code",
   "execution_count": null,
   "id": "f2b345b1",
   "metadata": {},
   "outputs": [],
   "source": []
  }
 ],
 "metadata": {
  "kernelspec": {
   "display_name": "Python 3",
   "language": "python",
   "name": "python3"
  },
  "language_info": {
   "codemirror_mode": {
    "name": "ipython",
    "version": 3
   },
   "file_extension": ".py",
   "mimetype": "text/x-python",
   "name": "python",
   "nbconvert_exporter": "python",
   "pygments_lexer": "ipython3",
   "version": "3.9.0"
  }
 },
 "nbformat": 4,
 "nbformat_minor": 5
}
