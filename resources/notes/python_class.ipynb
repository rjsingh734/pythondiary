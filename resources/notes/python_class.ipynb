{
 "cells": [
  {
   "cell_type": "code",
   "execution_count": null,
   "id": "059cd019-792b-4bdd-a807-d824f9d0246e",
   "metadata": {},
   "outputs": [],
   "source": [
    "print('hello world!')\n",
    "print(1)\n",
    "print(1.1)\n",
    "x=2\n",
    "print(x)"
   ]
  },
  {
   "cell_type": "code",
   "execution_count": null,
   "id": "77facb74-3537-4e2d-93cf-747c08d2a7a2",
   "metadata": {},
   "outputs": [],
   "source": [
    "hours=30\n",
    "rate=12\n",
    "pay=hours*rate\n",
    "print(pay)"
   ]
  },
  {
   "cell_type": "markdown",
   "id": "2befdac7-8da1-42f9-be4e-a0bca4977963",
   "metadata": {},
   "source": [
    "Python Variable rules\n",
    "\n",
    "1.we can use alphabets,underscore and number  \n",
    "2.we can only start the variable name with alphabet or underscore  \n",
    "3.python is case sensitive"
   ]
  },
  {
   "cell_type": "code",
   "execution_count": null,
   "id": "ce15e5a0-5979-427c-afe9-7edca7fbce60",
   "metadata": {},
   "outputs": [],
   "source": [
    "x=.6\n",
    "x=3.9*x*(1-x)\n",
    "print(x)"
   ]
  },
  {
   "cell_type": "markdown",
   "id": "ebfa5682-03b2-499a-a767-283276deba76",
   "metadata": {},
   "source": [
    "operator operation  \n",
    ".+&nbsp;&nbsp;&nbsp;&nbsp;Addition  \n",
    ".-&nbsp;&nbsp;&nbsp;&nbsp;Subtraction  \n",
    ".*&nbsp;&nbsp;&nbsp;&nbsp;Multioplication  \n",
    "./&nbsp;&nbsp;&nbsp;&nbsp;Division  \n",
    ".%&nbsp;&nbsp;&nbsp;&nbsp;Modulo  "
   ]
  },
  {
   "cell_type": "code",
   "execution_count": null,
   "id": "a89b3ee7-ebfb-4539-9c16-09b747b1ab89",
   "metadata": {},
   "outputs": [],
   "source": [
    "x=2\n",
    "print(x)\n",
    "y=2.0\n",
    "print(y)"
   ]
  },
  {
   "cell_type": "markdown",
   "id": "b68c10fb-b2e0-4042-819b-d13870818b38",
   "metadata": {},
   "source": [
    "Precedence rules  \n",
    "1.Paranthsis  \n",
    "2.Exponentiation  \n",
    "3.Multiplication, division, remainder  \n",
    "4.Addition  \n",
    "5.Subtraction  \n",
    "<br>\n",
    "(if there are expressions of same precedence)expresoins are eveauated left to right"
   ]
  },
  {
   "cell_type": "code",
   "execution_count": null,
   "id": "03541d60-d587-443c-9b5e-3491d4472144",
   "metadata": {},
   "outputs": [],
   "source": [
    "#concatination(str+str returns a str with the concatinated string)\n",
    "name='vineeth'+' Rai' \n",
    "print(name)"
   ]
  },
  {
   "cell_type": "code",
   "execution_count": null,
   "id": "aee65736-bef1-49bd-9032-a41e42452058",
   "metadata": {},
   "outputs": [],
   "source": [
    "#input section"
   ]
  },
  {
   "cell_type": "code",
   "execution_count": null,
   "id": "6e4920a0",
   "metadata": {},
   "outputs": [],
   "source": [
    "#input always returns a str value\n",
    "temp=input(\"enter a value: \")\n",
    "type(temp)"
   ]
  },
  {
   "cell_type": "code",
   "execution_count": null,
   "id": "1ef03524",
   "metadata": {},
   "outputs": [],
   "source": [
    "i=int(input(\"enter a number\"))\n",
    "type(i)"
   ]
  },
  {
   "cell_type": "code",
   "execution_count": null,
   "id": "0e8f1375",
   "metadata": {},
   "outputs": [],
   "source": [
    "print(\"asd{1} dfsf{0}\".format(1,2))"
   ]
  },
  {
   "cell_type": "code",
   "execution_count": null,
   "id": "0cb4bc33",
   "metadata": {},
   "outputs": [],
   "source": [
    "#comments \n",
    "'''\n",
    "this \n",
    "is \n",
    "a \n",
    "multi \n",
    "line \n",
    "comment\n",
    "'''\n"
   ]
  },
  {
   "cell_type": "code",
   "execution_count": null,
   "id": "ea69defb",
   "metadata": {},
   "outputs": [],
   "source": [
    "# different types of divisions\n",
    "print(6/4)\n",
    "print(6//4)"
   ]
  },
  {
   "cell_type": "code",
   "execution_count": null,
   "id": "c5edbc1b",
   "metadata": {},
   "outputs": [],
   "source": [
    "#keywords\n",
    "import keyword as k;\n",
    "print(k.kwlist)\n",
    "print(len(k.kwlist))"
   ]
  },
  {
   "cell_type": "markdown",
   "id": "ee3b114f",
   "metadata": {},
   "source": [
    "### Logical expressions\n"
   ]
  },
  {
   "cell_type": "markdown",
   "id": "f08469f7",
   "metadata": {},
   "source": [
    "### Boolean Expressions\n",
    "\n",
    "* x==y `>`true if x is equal to y\n",
    "* x!=y `>`true if x is not equal to y\n",
    "* x>y  `>`\n",
    "* x<y  `>`\n",
    "* x>=y `>`\n",
    "* x<=y `>`"
   ]
  },
  {
   "cell_type": "markdown",
   "id": "cf0ba86d",
   "metadata": {},
   "source": [
    "### Conditional Execution  \n",
    "\n",
    "Simple if  \n",
    "```python\n",
    "if(true):\n",
    "    print(\"hi\")\n",
    "```\n",
    "if elif else\n",
    "```python\n",
    "if(false):\n",
    "    print('high')\n",
    "elif(true):\n",
    "    print('low')\n",
    "else:\n",
    "    print('invalid')\n",
    "```"
   ]
  },
  {
   "cell_type": "code",
   "execution_count": null,
   "id": "fdc07b72",
   "metadata": {},
   "outputs": [],
   "source": [
    "rate = int(input(\"enter hourly rate: \"))\n",
    "hour =  int(input(\"enter no of hours: \"))\n",
    "pay = hour*rate\n",
    "print(pay)"
   ]
  },
  {
   "cell_type": "markdown",
   "id": "fd1c9139",
   "metadata": {},
   "source": [
    "## Try and except  \n",
    "It is used to detect runtime faults in the code  \n",
    "```python\n",
    "try:\n",
    "    #faulty code\n",
    "except:\n",
    "    #error message\n",
    "    #error correction\n",
    "```\n"
   ]
  },
  {
   "cell_type": "code",
   "execution_count": null,
   "id": "2467d957",
   "metadata": {},
   "outputs": [],
   "source": [
    "try:\n",
    "    rate = int(input(\"enter hourly rate: \"))\n",
    "    hour =  int(input(\"enter no of hours: \"))\n",
    "    pay = hour*rate\n",
    "    print(pay)\n",
    "except:\n",
    "    print('please enter integer values only')"
   ]
  },
  {
   "cell_type": "code",
   "execution_count": null,
   "id": "7b11b605",
   "metadata": {},
   "outputs": [],
   "source": [
    "#Off topic\n",
    "import sys\n",
    "lst = ['b',0,2,3,5,5.2]\n",
    "for entry in lst:\n",
    "    try:\n",
    "        print(\"The entry is:\", entry)\n",
    "        r=1/int(entry)\n",
    "        print(\"the reciprocal of\", entry, \"is\", r)\n",
    "        print(\"&&&****************&&&\")\n",
    "    except:\n",
    "        print(\"oops\", sys.exc_info()[0],\"occured.\")\n",
    "        print(\"&&&****************&&&\")\n",
    "\n",
    "            "
   ]
  },
  {
   "cell_type": "code",
   "execution_count": null,
   "id": "366bdf38",
   "metadata": {},
   "outputs": [],
   "source": [
    "import sys\n",
    "lst=['b',0,2]\n",
    "for entry in lst:\n",
    "    try:\n",
    "        print(\"The entry is:\", entry)\n",
    "        r=1/int(entry)\n",
    "    except:\n",
    "        print('Entry is not a number')\n",
    "    except:\n",
    "        print('Zero Division error')\n"
   ]
  },
  {
   "cell_type": "markdown",
   "id": "4ee6d2d5",
   "metadata": {},
   "source": [
    "### Homework\n",
    "#### 1. Rewrite pay computation program to give the employee 2 times the hourly rate for hours worked above 40 hrs  \n",
    "#### 2. Rewrite the program using try and accept so that the program can handle the non numeric inputs gracefully "
   ]
  },
  {
   "cell_type": "code",
   "execution_count": null,
   "id": "d3e2eb65",
   "metadata": {},
   "outputs": [],
   "source": [
    "#Homework 1\n",
    "\n",
    "hour =  int(input(\"enter no of hours: \"))\n",
    "rate = int(input(\"enter hourly rate: \"))\n",
    "\n",
    "if(hour>40):\n",
    "    pay=2*rate*hour\n",
    "else:\n",
    "    pay=rate*hour\n",
    "    \n",
    "print(pay)"
   ]
  },
  {
   "cell_type": "code",
   "execution_count": 2,
   "id": "4863dfdc",
   "metadata": {},
   "outputs": [
    {
     "name": "stdout",
     "output_type": "stream",
     "text": [
      "enter a integer you want take qube of: 10\n",
      "The qube of 10 is 1000\n"
     ]
    }
   ],
   "source": [
    "#Homework 2\n",
    "\n",
    "while True:\n",
    "    try:\n",
    "        value =  int(input(\"enter a integer you want take square of: \"))\n",
    "        break\n",
    "    except:\n",
    "        print(\"Please enter integer value only\")\n",
    "\n",
    "square=value*value\n",
    "print(\"The qube of {} is {}\".format(value,square))"
   ]
  },
  {
   "cell_type": "code",
   "execution_count": 12,
   "id": "bdbb5950",
   "metadata": {},
   "outputs": [
    {
     "data": {
      "text/plain": [
       "True"
      ]
     },
     "execution_count": 12,
     "metadata": {},
     "output_type": "execute_result"
    }
   ],
   "source": [
    "x=6\n",
    "y=2\n",
    "x>=2 and (x/y)>2\n"
   ]
  },
  {
   "cell_type": "code",
   "execution_count": 11,
   "id": "c63deeb5",
   "metadata": {},
   "outputs": [
    {
     "data": {
      "text/plain": [
       "False"
      ]
     },
     "execution_count": 11,
     "metadata": {},
     "output_type": "execute_result"
    }
   ],
   "source": [
    "x=1\n",
    "y=0\n",
    "x>=2 and (x/y)>2\n"
   ]
  },
  {
   "cell_type": "code",
   "execution_count": 15,
   "id": "8e8d9ce8",
   "metadata": {},
   "outputs": [
    {
     "data": {
      "text/plain": [
       "False"
      ]
     },
     "execution_count": 15,
     "metadata": {},
     "output_type": "execute_result"
    }
   ],
   "source": [
    "x=6\n",
    "y=0\n",
    "x>=2 and (x/y)>2\n"
   ]
  },
  {
   "cell_type": "markdown",
   "id": "5b2e55a0",
   "metadata": {},
   "source": [
    "> ** Note: ** In 'and' opperation if first condition is false then compailer wont check for second condition oer any preseding condition  \n",
    ">same with 'or' if first value is true then second statement wont be exicuted"
   ]
  },
  {
   "cell_type": "code",
   "execution_count": 16,
   "id": "3df87421",
   "metadata": {},
   "outputs": [
    {
     "data": {
      "text/plain": [
       "False"
      ]
     },
     "execution_count": 16,
     "metadata": {},
     "output_type": "execute_result"
    }
   ],
   "source": [
    "#solution\n",
    "\n",
    "x=6\n",
    "y=0\n",
    "x>=2 and (y!=0) and (x/y)>2"
   ]
  },
  {
   "cell_type": "markdown",
   "id": "a0d2210f",
   "metadata": {},
   "source": [
    "## User defined functions\n",
    "\n",
    "syntax:  \n",
    "  \n",
    "  > def function_name(parameters):\n",
    "  > \n",
    "  > '''  \n",
    "  > Doc string  \n",
    "  > '''  \n",
    "  >   Statements\n",
    "  "
   ]
  },
  {
   "cell_type": "code",
   "execution_count": 17,
   "id": "512af456",
   "metadata": {},
   "outputs": [
    {
     "name": "stdout",
     "output_type": "stream",
     "text": [
      "21\n"
     ]
    }
   ],
   "source": [
    "#example1\n",
    "\n",
    "def add(a,b):\n",
    "    '''\n",
    "    just adds 2 numbers\n",
    "    '''\n",
    "    return a+b\n",
    "\n",
    "print(add(10,11))"
   ]
  },
  {
   "cell_type": "code",
   "execution_count": 28,
   "id": "65eee2c0",
   "metadata": {},
   "outputs": [
    {
     "name": "stdout",
     "output_type": "stream",
     "text": [
      "Hello vrk !how are you\n",
      "Hello Vineeth !how are you\n",
      "\n",
      "    just prints input with greetings\n",
      "    \n"
     ]
    }
   ],
   "source": [
    "#example2\n",
    "\n",
    "def greet(name):                #function defination\n",
    "    '''\n",
    "    just prints input with greetings\n",
    "    '''\n",
    "    print(\"Hello {} !how are you\".format(name))\n",
    "    \n",
    "    \n",
    "string=\"vrk\"\n",
    "greet(string)                  #function call\n",
    "\n",
    "greet(\"Vineeth\")               #function call\n",
    "\n",
    "print(greet.__doc__) "
   ]
  },
  {
   "cell_type": "markdown",
   "id": "46af7942",
   "metadata": {},
   "source": []
  },
  {
   "cell_type": "code",
   "execution_count": 2,
   "id": "f6ec2f61",
   "metadata": {},
   "outputs": [
    {
     "name": "stdout",
     "output_type": "stream",
     "text": [
      "Hello vrk !how do you do?\n",
      "Hello Vineeth !how do you do?\n",
      "Hello vrk !why dont you die\n"
     ]
    }
   ],
   "source": [
    "#example with bacword compatiblity\n",
    "#non-default argument should not follows default argument\n",
    "\n",
    "def greet(name, msg=\"how do you do?\"):                #function defination\n",
    "    '''\n",
    "    just prints input with greetings\n",
    "    '''\n",
    "    print(\"Hello {0} !{1}\".format(name,msg))\n",
    "    \n",
    "    \n",
    "string=\"vrk\"\n",
    "greet(string)                  #function call\n",
    "\n",
    "greet(\"Vineeth\")               #function call\n",
    "\n",
    "#print(greet.__doc__) \n",
    "\n",
    "greet(\"vrk\",\"why dont you die\")"
   ]
  },
  {
   "cell_type": "code",
   "execution_count": null,
   "id": "7f7f5912",
   "metadata": {},
   "outputs": [],
   "source": []
  }
 ],
 "metadata": {
  "kernelspec": {
   "display_name": "Python 3",
   "language": "python",
   "name": "python3"
  },
  "language_info": {
   "codemirror_mode": {
    "name": "ipython",
    "version": 3
   },
   "file_extension": ".py",
   "mimetype": "text/x-python",
   "name": "python",
   "nbconvert_exporter": "python",
   "pygments_lexer": "ipython3",
   "version": "3.9.0"
  }
 },
 "nbformat": 4,
 "nbformat_minor": 5
}
